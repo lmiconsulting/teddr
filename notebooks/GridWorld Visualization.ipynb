{
 "cells": [
  {
   "cell_type": "code",
   "execution_count": 2,
   "id": "2accbaec-351e-46e4-9b38-b92ba5a29f71",
   "metadata": {},
   "outputs": [],
   "source": [
    "import os, sys, math\n",
    "sys.path.insert(0, '..')\n",
    "\n",
    "from src import teddr\n",
    "\n",
    "import numpy as np\n",
    "import matplotlib.pyplot as plt\n",
    "import seaborn as sns\n",
    "import smplotlib\n",
    "import networkx as nx"
   ]
  },
  {
   "cell_type": "code",
   "execution_count": 3,
   "id": "acbccc6e-6dd5-43ca-9114-107d6ace9b06",
   "metadata": {},
   "outputs": [],
   "source": [
    "def visualize_graph_with_event_counts_on_ax(G, grid_size, ax):\n",
    "    ax.set_xlim(0, grid_size[0])\n",
    "    ax.set_ylim(0, grid_size[1])\n",
    "    \n",
    "    # Draw the edges\n",
    "    for u, v, data in G.edges(data=True):\n",
    "        ax.plot([u[0], v[0]], [u[1], v[1]], color='blue', linewidth=data['weight'])\n",
    "    \n",
    "    # Draw nodes\n",
    "    for node in G.nodes():\n",
    "        ax.scatter(*node, c='red', s=50)\n"
   ]
  },
  {
   "cell_type": "markdown",
   "id": "b0ac906b-f9cf-4cdb-9e29-435f2ac9facf",
   "metadata": {},
   "source": [
    "### Basic Visualization"
   ]
  },
  {
   "cell_type": "code",
   "execution_count": 4,
   "id": "b21afcfa-49f9-45a8-8ed5-3c8f158f6905",
   "metadata": {},
   "outputs": [],
   "source": [
    "world = teddr.gridworld.GridWorld(\n",
    "    grid_size=(1000000, 1000000),\n",
    "    n_locations=100,\n",
    "    n_locales = 16\n",
    ")"
   ]
  },
  {
   "cell_type": "code",
   "execution_count": null,
   "id": "4a48eb6b-d9bc-4896-b6b9-c3a791812393",
   "metadata": {},
   "outputs": [],
   "source": [
    "fig, axes = plt.subplots(2, 1, figsize=(5, 10))\n",
    "\n",
    "world.visualize_grid_on_ax(axes[0])\n",
    "axes[0].set_xlabel(\"X-Coordinate\")\n",
    "axes[0].set_ylabel(\"Y-Coordinate\")\n",
    "axes[0].text(0.05, 0.95, 'A)', \n",
    "         transform=axes[0].transAxes, \n",
    "         verticalalignment='top', \n",
    "         horizontalalignment='left', \n",
    "         fontweight='bold'\n",
    ")\n",
    "\n",
    "G_inverse_distance = world.generate_event_network(25, 'inverse_distance')\n",
    "visualize_graph_with_event_counts_on_ax(G_inverse_distance, world.grid_size, axes[1])\n",
    "axes[1].set_xlabel(\"X-Coordinate\")\n",
    "axes[1].text(0.05, 0.95, 'B)', \n",
    "         transform=axes[1].transAxes, \n",
    "         verticalalignment='top', \n",
    "         horizontalalignment='left', \n",
    "         fontweight='bold'\n",
    ")\n",
    "\n",
    "plt.tight_layout()\n",
    "plt.savefig(\"gridworld_example_compact.png\")\n",
    "plt.show()"
   ]
  },
  {
   "cell_type": "code",
   "execution_count": null,
   "id": "63ff4ee2-5f55-4997-b9fc-a868eb9b0626",
   "metadata": {},
   "outputs": [],
   "source": []
  },
  {
   "cell_type": "code",
   "execution_count": null,
   "id": "31b3a72c-60a7-4d71-845e-1185f41594a9",
   "metadata": {},
   "outputs": [],
   "source": []
  }
 ],
 "metadata": {
  "kernelspec": {
   "display_name": "Python 3 (ipykernel)",
   "language": "python",
   "name": "python3"
  },
  "language_info": {
   "codemirror_mode": {
    "name": "ipython",
    "version": 3
   },
   "file_extension": ".py",
   "mimetype": "text/x-python",
   "name": "python",
   "nbconvert_exporter": "python",
   "pygments_lexer": "ipython3",
   "version": "3.10.13"
  }
 },
 "nbformat": 4,
 "nbformat_minor": 5
}
